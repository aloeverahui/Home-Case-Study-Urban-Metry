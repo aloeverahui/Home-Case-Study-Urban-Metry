{
  "metadata": {
    "kernelspec": {
      "name": "python",
      "display_name": "Python (Pyodide)",
      "language": "python"
    },
    "language_info": {
      "codemirror_mode": {
        "name": "python",
        "version": 3
      },
      "file_extension": ".py",
      "mimetype": "text/x-python",
      "name": "python",
      "nbconvert_exporter": "python",
      "pygments_lexer": "ipython3",
      "version": "3.8"
    }
  },
  "nbformat_minor": 4,
  "nbformat": 4,
  "cells": [
    {
      "cell_type": "markdown",
      "source": "# 1.0 Introduction\n\n***prepared by [Hui Hui](https://www.kaggle.com/leowhuihui)***\n\nThis analysis is to explore the sales trend of highrise building with regards to valuation price, built up price, property type, and quarter date of sales.",
      "metadata": {}
    },
    {
      "cell_type": "markdown",
      "source": "## 1.1 Objectives\nThe objectives are to explore the sales within three buildings and compare amongst them based on the price trend of quarter from year 2016 to 2019 with the data available.\nThe visualizations that are of interest listed down below with headers referring to these visualization respectively. \n\n1. Average Sales Price (psf) vs Quarter Year Between Three Buildings\n2. Differences Between Median Price and Average Price within Three Buildings\n3. Median Valuation Price with respect to Quarter Year within Three Buildings",
      "metadata": {}
    },
    {
      "cell_type": "markdown",
      "source": "## 1.2 Data Cleaning\nCleaning the data and rename columns name for my preferable column headers.",
      "metadata": {}
    },
    {
      "cell_type": "code",
      "source": "# Importing libraries\n%pip install seaborn\n#%pip install plotly\n%matplotlib inline\n\nimport pandas as pd\nimport numpy as np\nimport seaborn as sns\nimport matplotlib.pyplot as plt\n#import plotly.graph_objects as go\n#import plotly.express as px",
      "metadata": {
        "trusted": true
      },
      "outputs": [],
      "execution_count": null
    },
    {
      "cell_type": "code",
      "source": "# Reading the data\n%pip install openpyxl\n\ndf = pd.DataFrame(pd.read_excel('DataCaseStudy2.xlsx', sheet_name='Q2 data'))\nprint('Data read into a pandas dataframe!')\n",
      "metadata": {
        "trusted": true
      },
      "outputs": [],
      "execution_count": null
    },
    {
      "cell_type": "code",
      "source": "# Check the data\ndf",
      "metadata": {
        "trusted": true
      },
      "outputs": [],
      "execution_count": null
    },
    {
      "cell_type": "code",
      "source": "# Drop columns that is not going to use in the analysis\ndf_overall = df.drop(columns=['Property building category 2', 'Property building type 2'])\n# Rename columns\ndf_overall.rename(columns={'Property building category':'bld_category', 'Property building type 1':'bld_type', 'Built up price psf':'price_psf', 'Size built up':'bup_size', 'Valuation price':'val_price', 'Year completion':'year_comp'}, inplace=True)\n# Drop rows that is not going to use in the analysis\ndf_overall = df_overall[~df['NAME'].isin(['ASTRA SUITES', 'FLAT JALAN AMAN'])]\n# Reset index after removing rows\ndf_overall = df_overall.reset_index()\n# Remove \"index\" column which appeared after resetting index\ndf_overall = df_overall.drop(columns=['index'])\ndf_overall",
      "metadata": {
        "trusted": true
      },
      "outputs": [],
      "execution_count": null
    },
    {
      "cell_type": "code",
      "source": "# Set \"QUARTER\" as string type for further cleaning\ndf_overall.QUARTER = df_overall.QUARTER.astype(str)\n# Drop rows that is not in quarter year from 2016 to 2019\nqy = ['20161', '20162', '20163', '20164', '20171', '20172', '20173', '20174', '20181', '20182', '20183', '20184', '20191', '20192']\ndf_overallqy = df_overall[df_overall.QUARTER.isin(qy)]\n# Reset index after drop rows\ndf_overallqy = df_overallqy.reset_index()\n# Drop \"index\" column which appeared after resetting index\ndf_overallqy = df_overallqy.drop(columns=['index'])\ndf_overallqy",
      "metadata": {
        "trusted": true
      },
      "outputs": [],
      "execution_count": null
    },
    {
      "cell_type": "code",
      "source": "# Reading data for average price psf\ndf_average = pd.DataFrame(pd.read_excel('DataCaseStudy2.xlsx', sheet_name='Average Price psf'))\ndf_average",
      "metadata": {
        "trusted": true
      },
      "outputs": [],
      "execution_count": null
    },
    {
      "cell_type": "code",
      "source": "# Drop empty columns\ndf_average = df_average.drop(columns=['Unnamed: 9', 'Unnamed: 11'])\n# Drop rows that is not going to use in analysis\ndf_average = df_average[~df_average['NAME'].isin(['ASTRA SUITES', 'FLAT JALAN AMAN'])]\n# Reset index after removing rows\ndf_average = df_average.reset_index()\n# Remove \"index\" column which appeared after resetting index\ndf_average = df_average.drop(columns=['index'])\n# Round only the float columns to one decimal place\nnumeric_cols = df_average.select_dtypes(include=['float64']).columns\ndf_average[numeric_cols] = df_average[numeric_cols].round(1)\ndf_average",
      "metadata": {
        "trusted": true
      },
      "outputs": [],
      "execution_count": null
    },
    {
      "cell_type": "markdown",
      "source": "# 2.0 Visualization and Observation\nCleaning and transformation of dataset is done. The dataset is now ready to be used for visualization.",
      "metadata": {}
    },
    {
      "cell_type": "markdown",
      "source": "## 2.1 Average Sales Price (psf) vs Quarter Year Between Three Buildings\nPlot a Line Chart to see the Average Sales Price (psf) changes with respect to Quarter Year from 2016 to 2019 within three buildings.",
      "metadata": {}
    },
    {
      "cell_type": "code",
      "source": "# Create dataset for mean value\ndf_avg_chart = pd.DataFrame(df_overallqy.groupby(['QUARTER', 'NAME'])['price_psf'].mean())\n# Reset index\ndf_avg_chart = df_avg_chart.reset_index()\ndf_avg_chart\n# Round the decimals\nprice_cols = df_avg_chart.select_dtypes(include=['float64']).columns\ndf_avg_chart[price_cols] = df_avg_chart[price_cols].round(0)\ndf_avg_chart",
      "metadata": {
        "trusted": true
      },
      "outputs": [],
      "execution_count": null
    },
    {
      "cell_type": "code",
      "source": "# Plot line chart with dataframe above\nfig, ax = plt.subplots(figsize=(8,5))\nsns.lineplot(data=df_avg_chart, x='QUARTER', y='price_psf', hue=\"NAME\")\nplt.grid()\nplt.title('Average Sales Price (psf) vs Quarter Year Between Three Condominiums')\nplt.xlabel('Quarter Year')\nplt.ylabel('Average Price (psf)')\nplt.xticks(rotation=45)\nplt.legend(loc='upper right')\nplt.tight_layout\nplt.show()",
      "metadata": {
        "trusted": true
      },
      "outputs": [],
      "execution_count": null
    },
    {
      "cell_type": "markdown",
      "source": "## 2.2 Differences Between Median Price and Average Price within Three Buildings\nPlot another Line Chart that shows the median price (psf) across time and explore the difference between the median and average value within these three buildings.",
      "metadata": {}
    },
    {
      "cell_type": "code",
      "source": "# Create dataset for median value\ndf_compare_chart = pd.DataFrame(df_overallqy.groupby(['QUARTER', 'NAME'])['price_psf'].median())\n# Reset index\ndf_compare_chart.reset_index(inplace=True)\n# Rename column\ndf_compare_chart.rename(columns={'price_psf':'median'}, inplace=True)\ndf_compare_chart['mean'] = df_overallqy['price_psf']\n# Round the decimals of \"median\" column\ndf_compare_chart['median'] = df_compare_chart['median'].astype(int)\n# Round the decimals of \"mean\" column\ndf_compare_chart['mean'] = df_compare_chart['mean'].astype(int)\ndf_compare_chart",
      "metadata": {
        "trusted": true
      },
      "outputs": [],
      "execution_count": null
    },
    {
      "cell_type": "code",
      "source": "# Plot two plots to compare dataset\nfig, ax=plt.subplots(1,2,figsize=(25,8))\n\nsns.lineplot(data=df_compare_chart, x='QUARTER', y='median', hue='NAME', ax=ax[0])\nax[0].grid(True) \nax[0].set_title('Median Price vs Quarter Year')\n\nsns.lineplot(data=df_compare_chart, x='QUARTER', y='mean', hue='NAME', ax=ax[1])\nax[1].grid(True)\nax[1].set_title('Average Price vs Quarter Year')\n\nplt.tight_layout\nplt.show()",
      "metadata": {
        "trusted": true
      },
      "outputs": [],
      "execution_count": null
    },
    {
      "cell_type": "markdown",
      "source": "## 2.2 Median Valuation Price with respect to Quarter Year within Three Buildings\nPlot a Line Chart that shows the Median Valuation Price across time for these three buildings.",
      "metadata": {}
    },
    {
      "cell_type": "code",
      "source": "# Create dataset for median valuation price\ndf_mval_chart = pd.DataFrame(df_overallqy.groupby(['QUARTER', 'NAME'])['val_price'].median())\n# Reset index\ndf_mval_chart.reset_index(inplace=True)\n# Rename column\ndf_mval_chart.rename(columns={'val_price':'val_median'}, inplace=True)\ndf_mval_chart",
      "metadata": {
        "trusted": true
      },
      "outputs": [],
      "execution_count": null
    },
    {
      "cell_type": "code",
      "source": "# Plot line chart with dataframe above\nfig, ax = plt.subplots(figsize=(8,5))\nsns.lineplot(data=df_mval_chart, x='QUARTER', y='val_median', hue=\"NAME\")\nplt.grid()\nplt.title('Valuation Median Price vs Quarter Year Between Three Condominiums')\nplt.xlabel('Quarter Year')\nplt.ylabel('Valuation Median Price')\nplt.xticks(rotation=45)\nplt.legend(loc='upper right')\nplt.tight_layout\nplt.show()",
      "metadata": {
        "trusted": true
      },
      "outputs": [],
      "execution_count": null
    },
    {
      "cell_type": "markdown",
      "source": "# 3.0 Observation \n1. The Harbourview is the most expensive property compared to the other two. The selling price is generally increasing especially in year 2018. This may be due to several factors for example desirable location, quality of the building, higher demand and lower supply of units. From this data, we might assume that Harbourview could be a choice for investment. Although the year of completion of this building was year of 1994, the trend of selling price is significantly increasing.\n2. From the data shown, Lily Point has the highest number of demand. This could be due to the price which is more affordable to buyers. However, it has a declining trend in selling price. Rainbow Apartment has a fluctuating trend in term of selling price. The significant decline and rebound of price might due to several factors. The building condition could be a reason that led to reduce prices since it was built in year 1987.\n3. We can clearly see that the Harbourview and Rainbow Apartment have higher median valuation price compared to Lily Point. However, the fluctuations in prices and inconsistency of sales may indicate market volatility. Lily Point is generally having more consistent of sales and stable median valuation price. This might be a more\nfavourable and afforable property among buyers of middle range income. ",
      "metadata": {}
    },
    {
      "cell_type": "markdown",
      "source": "# 4.0 Conclusion\nBased on the various visualizations explored in this notebook, the key findings are summarized as follows:\n1. We can see the Harbourview has the highest Average Sales Price (psf) compared to the rest, where Lily Point has the lowest among them.\n2. We can infer that the Average Sales Price (psf) for each neighborhood experienced a notable decrease at the beginning of 2018.\n3. Valuation Median Price for Lily Point is the lowest compared to the other two.",
      "metadata": {}
    },
    {
      "cell_type": "markdown",
      "source": "***Prepared by Hui Hui*** [Kaggle](https://www.kaggle.com/leowhuihui) [Github](https://github.com/aloeverahui)",
      "metadata": {}
    }
  ]
}